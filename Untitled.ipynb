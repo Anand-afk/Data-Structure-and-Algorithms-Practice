{
 "cells": [
  {
   "cell_type": "code",
   "execution_count": 1,
   "metadata": {},
   "outputs": [
    {
     "name": "stdout",
     "output_type": "stream",
     "text": [
      "--- 0.0 seconds ---\n"
     ]
    }
   ],
   "source": [
    "import time\n",
    "start_time = time.time()\n",
    "\n",
    "n = [10,20,30,40,20,10,30,4,20,4,0]\n",
    "sun = 1 + n[0]\n",
    "print(\"--- %s seconds ---\" % (time.time() - start_time))"
   ]
  },
  {
   "cell_type": "code",
   "execution_count": 2,
   "metadata": {},
   "outputs": [
    {
     "name": "stdout",
     "output_type": "stream",
     "text": [
      "--- 0.0009822845458984375 seconds ---\n"
     ]
    }
   ],
   "source": [
    "start_time = time.time()\n",
    "\n",
    "n = [10,20,30,40,20,10,30,4,20,4,0]\n",
    "sun = sum(n)\n",
    "print(\"--- %s seconds ---\" % (time.time() - start_time))"
   ]
  },
  {
   "cell_type": "code",
   "execution_count": 9,
   "metadata": {},
   "outputs": [
    {
     "name": "stdout",
     "output_type": "stream",
     "text": [
      "--- 0.0 seconds ---\n"
     ]
    }
   ],
   "source": [
    "import itertools\n",
    "start_time = time.time()\n",
    "\n",
    "n = [10,20,30,40,20,10,30,4,20,4,0]\n",
    "sun = list(itertools.permutations(n,2))\n",
    "print(\"--- %s seconds ---\" % (time.time() - start_time))"
   ]
  },
  {
   "cell_type": "code",
   "execution_count": 10,
   "metadata": {},
   "outputs": [
    {
     "data": {
      "text/plain": [
       "[(10, 20),\n",
       " (10, 30),\n",
       " (10, 40),\n",
       " (10, 20),\n",
       " (10, 10),\n",
       " (10, 30),\n",
       " (10, 4),\n",
       " (10, 20),\n",
       " (10, 4),\n",
       " (10, 0),\n",
       " (20, 10),\n",
       " (20, 30),\n",
       " (20, 40),\n",
       " (20, 20),\n",
       " (20, 10),\n",
       " (20, 30),\n",
       " (20, 4),\n",
       " (20, 20),\n",
       " (20, 4),\n",
       " (20, 0),\n",
       " (30, 10),\n",
       " (30, 20),\n",
       " (30, 40),\n",
       " (30, 20),\n",
       " (30, 10),\n",
       " (30, 30),\n",
       " (30, 4),\n",
       " (30, 20),\n",
       " (30, 4),\n",
       " (30, 0),\n",
       " (40, 10),\n",
       " (40, 20),\n",
       " (40, 30),\n",
       " (40, 20),\n",
       " (40, 10),\n",
       " (40, 30),\n",
       " (40, 4),\n",
       " (40, 20),\n",
       " (40, 4),\n",
       " (40, 0),\n",
       " (20, 10),\n",
       " (20, 20),\n",
       " (20, 30),\n",
       " (20, 40),\n",
       " (20, 10),\n",
       " (20, 30),\n",
       " (20, 4),\n",
       " (20, 20),\n",
       " (20, 4),\n",
       " (20, 0),\n",
       " (10, 10),\n",
       " (10, 20),\n",
       " (10, 30),\n",
       " (10, 40),\n",
       " (10, 20),\n",
       " (10, 30),\n",
       " (10, 4),\n",
       " (10, 20),\n",
       " (10, 4),\n",
       " (10, 0),\n",
       " (30, 10),\n",
       " (30, 20),\n",
       " (30, 30),\n",
       " (30, 40),\n",
       " (30, 20),\n",
       " (30, 10),\n",
       " (30, 4),\n",
       " (30, 20),\n",
       " (30, 4),\n",
       " (30, 0),\n",
       " (4, 10),\n",
       " (4, 20),\n",
       " (4, 30),\n",
       " (4, 40),\n",
       " (4, 20),\n",
       " (4, 10),\n",
       " (4, 30),\n",
       " (4, 20),\n",
       " (4, 4),\n",
       " (4, 0),\n",
       " (20, 10),\n",
       " (20, 20),\n",
       " (20, 30),\n",
       " (20, 40),\n",
       " (20, 20),\n",
       " (20, 10),\n",
       " (20, 30),\n",
       " (20, 4),\n",
       " (20, 4),\n",
       " (20, 0),\n",
       " (4, 10),\n",
       " (4, 20),\n",
       " (4, 30),\n",
       " (4, 40),\n",
       " (4, 20),\n",
       " (4, 10),\n",
       " (4, 30),\n",
       " (4, 4),\n",
       " (4, 20),\n",
       " (4, 0),\n",
       " (0, 10),\n",
       " (0, 20),\n",
       " (0, 30),\n",
       " (0, 40),\n",
       " (0, 20),\n",
       " (0, 10),\n",
       " (0, 30),\n",
       " (0, 4),\n",
       " (0, 20),\n",
       " (0, 4)]"
      ]
     },
     "execution_count": 10,
     "metadata": {},
     "output_type": "execute_result"
    }
   ],
   "source": [
    "sun\n"
   ]
  },
  {
   "cell_type": "code",
   "execution_count": 28,
   "metadata": {},
   "outputs": [],
   "source": [
    "import math\n",
    "import os\n",
    "import random\n",
    "import re\n",
    "import sys\n",
    "\n",
    "# Complete the sockMerchant function below.\n",
    "def sockMerchant(n, ar):\n",
    "    d = {}\n",
    "    count = 0\n",
    "    for i in ar:\n",
    "        if i not in d:\n",
    "            d[i] = 1\n",
    "        else:\n",
    "            d[i] +=1\n",
    "    \n",
    "    for key,value in d.items():\n",
    "        count += value//2\n",
    "    \n",
    "    return count\n",
    "            \n",
    "    \n",
    "n = 9\n",
    "\n",
    "ar = [10,20,20,10,10,30,50,10,20]\n",
    "result = sockMerchant(n, ar)"
   ]
  },
  {
   "cell_type": "code",
   "execution_count": 29,
   "metadata": {},
   "outputs": [
    {
     "data": {
      "text/plain": [
       "3"
      ]
     },
     "execution_count": 29,
     "metadata": {},
     "output_type": "execute_result"
    }
   ],
   "source": [
    "result"
   ]
  },
  {
   "cell_type": "code",
   "execution_count": 19,
   "metadata": {},
   "outputs": [
    {
     "data": {
      "text/plain": [
       "1"
      ]
     },
     "execution_count": 19,
     "metadata": {},
     "output_type": "execute_result"
    }
   ],
   "source": [
    "5%2"
   ]
  },
  {
   "cell_type": "code",
   "execution_count": 22,
   "metadata": {},
   "outputs": [
    {
     "data": {
      "text/plain": [
       "1"
      ]
     },
     "execution_count": 22,
     "metadata": {},
     "output_type": "execute_result"
    }
   ],
   "source": [
    "2//2\n"
   ]
  },
  {
   "cell_type": "code",
   "execution_count": null,
   "metadata": {},
   "outputs": [],
   "source": []
  }
 ],
 "metadata": {
  "kernelspec": {
   "display_name": "Python 3",
   "language": "python",
   "name": "python3"
  },
  "language_info": {
   "codemirror_mode": {
    "name": "ipython",
    "version": 3
   },
   "file_extension": ".py",
   "mimetype": "text/x-python",
   "name": "python",
   "nbconvert_exporter": "python",
   "pygments_lexer": "ipython3",
   "version": "3.8.3"
  }
 },
 "nbformat": 4,
 "nbformat_minor": 4
}
