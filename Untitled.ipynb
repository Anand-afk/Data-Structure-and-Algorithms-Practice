{
 "cells": [
  {
   "cell_type": "code",
   "execution_count": 1,
   "metadata": {},
   "outputs": [
    {
     "name": "stdout",
     "output_type": "stream",
     "text": [
      "--- 0.0 seconds ---\n"
     ]
    }
   ],
   "source": [
    "import time\n",
    "start_time = time.time()\n",
    "\n",
    "n = [10,20,30,40,20,10,30,4,20,4,0]\n",
    "sun = 1 + n[0]\n",
    "print(\"--- %s seconds ---\" % (time.time() - start_time))"
   ]
  },
  {
   "cell_type": "code",
   "execution_count": 2,
   "metadata": {},
   "outputs": [
    {
     "name": "stdout",
     "output_type": "stream",
     "text": [
      "--- 0.0009822845458984375 seconds ---\n"
     ]
    }
   ],
   "source": [
    "start_time = time.time()\n",
    "\n",
    "n = [10,20,30,40,20,10,30,4,20,4,0]\n",
    "sun = sum(n)\n",
    "print(\"--- %s seconds ---\" % (time.time() - start_time))"
   ]
  },
  {
   "cell_type": "code",
   "execution_count": 9,
   "metadata": {},
   "outputs": [
    {
     "name": "stdout",
     "output_type": "stream",
     "text": [
      "--- 0.0 seconds ---\n"
     ]
    }
   ],
   "source": [
    "import itertools\n",
    "start_time = time.time()\n",
    "\n",
    "n = [10,20,30,40,20,10,30,4,20,4,0]\n",
    "sun = list(itertools.permutations(n,2))\n",
    "print(\"--- %s seconds ---\" % (time.time() - start_time))"
   ]
  },
  {
   "cell_type": "code",
   "execution_count": 10,
   "metadata": {},
   "outputs": [
    {
     "data": {
      "text/plain": [
       "[(10, 20),\n",
       " (10, 30),\n",
       " (10, 40),\n",
       " (10, 20),\n",
       " (10, 10),\n",
       " (10, 30),\n",
       " (10, 4),\n",
       " (10, 20),\n",
       " (10, 4),\n",
       " (10, 0),\n",
       " (20, 10),\n",
       " (20, 30),\n",
       " (20, 40),\n",
       " (20, 20),\n",
       " (20, 10),\n",
       " (20, 30),\n",
       " (20, 4),\n",
       " (20, 20),\n",
       " (20, 4),\n",
       " (20, 0),\n",
       " (30, 10),\n",
       " (30, 20),\n",
       " (30, 40),\n",
       " (30, 20),\n",
       " (30, 10),\n",
       " (30, 30),\n",
       " (30, 4),\n",
       " (30, 20),\n",
       " (30, 4),\n",
       " (30, 0),\n",
       " (40, 10),\n",
       " (40, 20),\n",
       " (40, 30),\n",
       " (40, 20),\n",
       " (40, 10),\n",
       " (40, 30),\n",
       " (40, 4),\n",
       " (40, 20),\n",
       " (40, 4),\n",
       " (40, 0),\n",
       " (20, 10),\n",
       " (20, 20),\n",
       " (20, 30),\n",
       " (20, 40),\n",
       " (20, 10),\n",
       " (20, 30),\n",
       " (20, 4),\n",
       " (20, 20),\n",
       " (20, 4),\n",
       " (20, 0),\n",
       " (10, 10),\n",
       " (10, 20),\n",
       " (10, 30),\n",
       " (10, 40),\n",
       " (10, 20),\n",
       " (10, 30),\n",
       " (10, 4),\n",
       " (10, 20),\n",
       " (10, 4),\n",
       " (10, 0),\n",
       " (30, 10),\n",
       " (30, 20),\n",
       " (30, 30),\n",
       " (30, 40),\n",
       " (30, 20),\n",
       " (30, 10),\n",
       " (30, 4),\n",
       " (30, 20),\n",
       " (30, 4),\n",
       " (30, 0),\n",
       " (4, 10),\n",
       " (4, 20),\n",
       " (4, 30),\n",
       " (4, 40),\n",
       " (4, 20),\n",
       " (4, 10),\n",
       " (4, 30),\n",
       " (4, 20),\n",
       " (4, 4),\n",
       " (4, 0),\n",
       " (20, 10),\n",
       " (20, 20),\n",
       " (20, 30),\n",
       " (20, 40),\n",
       " (20, 20),\n",
       " (20, 10),\n",
       " (20, 30),\n",
       " (20, 4),\n",
       " (20, 4),\n",
       " (20, 0),\n",
       " (4, 10),\n",
       " (4, 20),\n",
       " (4, 30),\n",
       " (4, 40),\n",
       " (4, 20),\n",
       " (4, 10),\n",
       " (4, 30),\n",
       " (4, 4),\n",
       " (4, 20),\n",
       " (4, 0),\n",
       " (0, 10),\n",
       " (0, 20),\n",
       " (0, 30),\n",
       " (0, 40),\n",
       " (0, 20),\n",
       " (0, 10),\n",
       " (0, 30),\n",
       " (0, 4),\n",
       " (0, 20),\n",
       " (0, 4)]"
      ]
     },
     "execution_count": 10,
     "metadata": {},
     "output_type": "execute_result"
    }
   ],
   "source": [
    "sun\n"
   ]
  },
  {
   "cell_type": "code",
   "execution_count": 28,
   "metadata": {},
   "outputs": [],
   "source": [
    "import math\n",
    "import os\n",
    "import random\n",
    "import re\n",
    "import sys\n",
    "\n",
    "# Complete the sockMerchant function below.\n",
    "def sockMerchant(n, ar):\n",
    "    d = {}\n",
    "    count = 0\n",
    "    for i in ar:\n",
    "        if i not in d:\n",
    "            d[i] = 1\n",
    "        else:\n",
    "            d[i] +=1\n",
    "    \n",
    "    for key,value in d.items():\n",
    "        count += value//2\n",
    "    \n",
    "    return count\n",
    "            \n",
    "    \n",
    "n = 9\n",
    "\n",
    "ar = [10,20,20,10,10,30,50,10,20]\n",
    "result = sockMerchant(n, ar)"
   ]
  },
  {
   "cell_type": "code",
   "execution_count": null,
   "metadata": {},
   "outputs": [],
   "source": [
    "# Given an array of integers, return indices of the two numbers such that they add up to a specific target.\n",
    "\n",
    "# You may assume that each input would have exactly one solution, and you may not use the same element twice.\n",
    "\n"
   ]
  },
  {
   "cell_type": "code",
   "execution_count": 4,
   "metadata": {},
   "outputs": [
    {
     "data": {
      "text/plain": [
       "(2, 7)"
      ]
     },
     "execution_count": 4,
     "metadata": {},
     "output_type": "execute_result"
    }
   ],
   "source": [
    "a = [2, 7, 11, 15]\n",
    "tar = 9\n",
    "\n",
    "def findindices (a,tar):\n",
    "    for i in range(len(a)-1): \n",
    "        if tar - a[i] in a :\n",
    "            return (a[i],tar - a[i])\n",
    "            \n",
    "findindices(a,tar)"
   ]
  },
  {
   "cell_type": "code",
   "execution_count": 9,
   "metadata": {},
   "outputs": [],
   "source": [
    "def threeNumberSum(array, targetSum):\n",
    "    array.sort()\n",
    "    finalans = []\n",
    "    for i in range(len(array)-2):\n",
    "        temp1 = i+1\n",
    "        temp2 = len(array)-1\n",
    "        while temp1 < temp2:\n",
    "            \n",
    "            ans = array[temp1] + array[temp2]\n",
    "            if ans + array[i] == targetSum:\n",
    "                finalans.append([array[temp1],array[temp2],array[i]])\n",
    "                temp1+=1\n",
    "                temp2-=1\n",
    "            elif ans +array[i] > targetSum:\n",
    "                temp2 -=1\n",
    "            elif ans+array[i] <targetSum:\n",
    "                temp1+=1\n",
    "    return finalans            \n",
    "array = [12,3,1,2,-6,5,-8,6]\n",
    "targetSum = 0"
   ]
  },
  {
   "cell_type": "code",
   "execution_count": 10,
   "metadata": {},
   "outputs": [
    {
     "data": {
      "text/plain": [
       "[[2, 6, -8], [3, 5, -8], [1, 5, -6]]"
      ]
     },
     "execution_count": 10,
     "metadata": {},
     "output_type": "execute_result"
    }
   ],
   "source": [
    "threeNumberSum(array,targetSum)"
   ]
  },
  {
   "cell_type": "markdown",
   "metadata": {},
   "source": [
    "### Smallest Difference"
   ]
  },
  {
   "cell_type": "code",
   "execution_count": 44,
   "metadata": {},
   "outputs": [],
   "source": [
    "array1 =  [10, 0, 20, 25]\n",
    "array2 = [1005, 1006, 1014, 1032, 1031]\n",
    "\n",
    "def smallestDifference(array1, array2):\n",
    "    ind1 =0\n",
    "    ind2 =0\n",
    "    smallest = float(\"inf\")\n",
    "    while ind1<len(array1) and ind2<len(array2):\n",
    "        diff=abs(array1[ind1]-array2[ind2])\n",
    "        if smallest>diff:\n",
    "            smallest =  diff\n",
    "            arrayres = [array1[ind1],array2[ind2]]\n",
    "            print(arrayres)\n",
    "            ind1 +=1\n",
    "        else: ind1+=1\n",
    "        if ind1 == len(array1):\n",
    "            ind2+=1\n",
    "            ind1 =0\n",
    "            \n",
    "    return arrayres"
   ]
  },
  {
   "cell_type": "code",
   "execution_count": 45,
   "metadata": {},
   "outputs": [
    {
     "name": "stdout",
     "output_type": "stream",
     "text": [
      "[10, 1005]\n",
      "[20, 1005]\n",
      "[25, 1005]\n"
     ]
    },
    {
     "data": {
      "text/plain": [
       "[25, 1005]"
      ]
     },
     "execution_count": 45,
     "metadata": {},
     "output_type": "execute_result"
    }
   ],
   "source": [
    "smallestDifference(array1,array2)"
   ]
  },
  {
   "cell_type": "code",
   "execution_count": 15,
   "metadata": {},
   "outputs": [
    {
     "data": {
      "text/plain": [
       "6"
      ]
     },
     "execution_count": 15,
     "metadata": {},
     "output_type": "execute_result"
    }
   ],
   "source": [
    "array1 = [-1,5,10,20,28,3]\n",
    "array2 = [26,134,135,15,17]\n",
    "len(array1)"
   ]
  },
  {
   "cell_type": "code",
   "execution_count": 16,
   "metadata": {},
   "outputs": [
    {
     "ename": "IndexError",
     "evalue": "list index out of range",
     "output_type": "error",
     "traceback": [
      "\u001b[1;31m---------------------------------------------------------------------------\u001b[0m",
      "\u001b[1;31mIndexError\u001b[0m                                Traceback (most recent call last)",
      "\u001b[1;32m<ipython-input-16-96cf32350b31>\u001b[0m in \u001b[0;36m<module>\u001b[1;34m\u001b[0m\n\u001b[1;32m----> 1\u001b[1;33m \u001b[0marray1\u001b[0m\u001b[1;33m[\u001b[0m\u001b[1;36m6\u001b[0m\u001b[1;33m]\u001b[0m\u001b[1;33m\u001b[0m\u001b[1;33m\u001b[0m\u001b[0m\n\u001b[0m",
      "\u001b[1;31mIndexError\u001b[0m: list index out of range"
     ]
    }
   ],
   "source": [
    "while ind1<len(array1) and ind2<len(array2):"
   ]
  },
  {
   "cell_type": "markdown",
   "metadata": {},
   "source": [
    "### Move element to end"
   ]
  },
  {
   "cell_type": "code",
   "execution_count": 47,
   "metadata": {},
   "outputs": [],
   "source": [
    "array = [2, 1, 2, 2, 2, 3, 4, 2]\n",
    "toMove = 2\n",
    "\n",
    "def moveElementToEnd(array, toMove):\n",
    "    newarr = []\n",
    "    nonmov =[]\n",
    "    for i in array:\n",
    "        if i == toMove :\n",
    "            newarr.append(i)\n",
    "        else : nonmov.append(i) \n",
    "    return nonmov+newarr"
   ]
  },
  {
   "cell_type": "code",
   "execution_count": 48,
   "metadata": {},
   "outputs": [
    {
     "data": {
      "text/plain": [
       "[1, 3, 4, 2, 2, 2, 2, 2]"
      ]
     },
     "execution_count": 48,
     "metadata": {},
     "output_type": "execute_result"
    }
   ],
   "source": [
    "moveElementToEnd(array,toMove)"
   ]
  },
  {
   "cell_type": "code",
   "execution_count": null,
   "metadata": {},
   "outputs": [],
   "source": [
    "#alternate solution\n",
    "def moveElementToEnd(array,toMove):\n",
    "    left =0\n",
    "    right = len(array)-1\n",
    "    while left<right:\n",
    "        if array[left]==toMove || array[right]==toMove:\n",
    "            right+=1\n",
    "        elif  \n",
    "        array[left],array[right] = array[right],array[left]\n",
    "            left\n",
    "        else:\n",
    "            left"
   ]
  },
  {
   "cell_type": "markdown",
   "metadata": {},
   "source": [
    "### Monotonic Array"
   ]
  },
  {
   "cell_type": "code",
   "execution_count": 70,
   "metadata": {},
   "outputs": [],
   "source": [
    "array = [-1, -5, -10, -1100, -1100, -1101, -1102, -9001]\n",
    "def isMonotonic(array):\n",
    "    inc_count=0\n",
    "    dec_count=0\n",
    "    for i in range(len(array)-1):\n",
    "        if array[i]<array[i+1]:\n",
    "            inc_count +=1\n",
    "        elif array[i]>array[i+1]:\n",
    "            dec_count +=1\n",
    "        elif array[i]==array[i+1] and inc_count>0:\n",
    "            inc_count+=1\n",
    "        elif array[i]==array[i+1] and dec_count>0:\n",
    "            dec_count+=1\n",
    "    if (inc_count == len(array)-1 and dec_count == 0) or (inc_count == 0 and dec_count == len(array)-1) or len(array)==0:\n",
    "        return True\n",
    "    else: return False"
   ]
  },
  {
   "cell_type": "code",
   "execution_count": 75,
   "metadata": {},
   "outputs": [
    {
     "data": {
      "text/plain": [
       "True"
      ]
     },
     "execution_count": 75,
     "metadata": {},
     "output_type": "execute_result"
    }
   ],
   "source": [
    "isMonotonic(array)"
   ]
  },
  {
   "cell_type": "code",
   "execution_count": 90,
   "metadata": {},
   "outputs": [],
   "source": [
    "array = [-1, -5, -10, -1100, -900, -1101, -1102, -9001]\n",
    "def isMonotonic(array):\n",
    "    dec =0\n",
    "    inc =0\n",
    "    for i in range(len(array)-1):\n",
    "        if array[i]==array[i+1]:\n",
    "            continue\n",
    "        elif array[i]>array[i+1]:\n",
    "            dec +=1\n",
    "        elif array[i]<array[i+1]:\n",
    "            inc +=1\n",
    "        else:\n",
    "            return False\n",
    "    if dec > 0 and inc == 0:\n",
    "        return True\n",
    "    elif inc >0 and dec == 0:\n",
    "        return True\n",
    "    else:\n",
    "        return False"
   ]
  },
  {
   "cell_type": "code",
   "execution_count": 91,
   "metadata": {},
   "outputs": [
    {
     "data": {
      "text/plain": [
       "False"
      ]
     },
     "execution_count": 91,
     "metadata": {},
     "output_type": "execute_result"
    }
   ],
   "source": [
    "isMonotonic(array)"
   ]
  },
  {
   "cell_type": "code",
   "execution_count": 88,
   "metadata": {},
   "outputs": [
    {
     "name": "stdout",
     "output_type": "stream",
     "text": [
      "yes\n",
      "yes\n",
      "yes\n",
      "yes\n",
      "yes\n",
      "yes\n"
     ]
    }
   ],
   "source": [
    "for i in range(len(array)-1):\n",
    "    if array[i]>array[i+1]:\n",
    "        print(\"yes\")"
   ]
  },
  {
   "cell_type": "code",
   "execution_count": 89,
   "metadata": {},
   "outputs": [
    {
     "ename": "NameError",
     "evalue": "name 'dec' is not defined",
     "output_type": "error",
     "traceback": [
      "\u001b[1;31m---------------------------------------------------------------------------\u001b[0m",
      "\u001b[1;31mNameError\u001b[0m                                 Traceback (most recent call last)",
      "\u001b[1;32m<ipython-input-89-88a19d2bba9f>\u001b[0m in \u001b[0;36m<module>\u001b[1;34m\u001b[0m\n\u001b[1;32m----> 1\u001b[1;33m \u001b[0mprint\u001b[0m\u001b[1;33m(\u001b[0m\u001b[0mdec\u001b[0m\u001b[1;33m)\u001b[0m\u001b[1;33m\u001b[0m\u001b[1;33m\u001b[0m\u001b[0m\n\u001b[0m",
      "\u001b[1;31mNameError\u001b[0m: name 'dec' is not defined"
     ]
    }
   ],
   "source": [
    "print(dec)"
   ]
  },
  {
   "cell_type": "markdown",
   "metadata": {},
   "source": [
    "### Spiral Traverse"
   ]
  },
  {
   "cell_type": "code",
   "execution_count": 93,
   "metadata": {},
   "outputs": [],
   "source": [
    "array = [[1, 2, 3, 4], [12, 13, 14, 5], [11, 16, 15, 6], [10, 9, 8, 7]]"
   ]
  },
  {
   "cell_type": "code",
   "execution_count": 107,
   "metadata": {},
   "outputs": [],
   "source": [
    "def spiralTraverse(array):\n",
    "    res = []\n",
    "    startRow, endRow = 0,len(array)-1\n",
    "    startCol,endCol = 0, len(array[0])-1\n",
    "    \n",
    "    print(startRow, endRow)\n",
    "        "
   ]
  },
  {
   "cell_type": "code",
   "execution_count": 108,
   "metadata": {},
   "outputs": [
    {
     "name": "stdout",
     "output_type": "stream",
     "text": [
      "0 3\n"
     ]
    }
   ],
   "source": [
    "spiralTraverse(array)"
   ]
  },
  {
   "cell_type": "code",
   "execution_count": null,
   "metadata": {},
   "outputs": [],
   "source": []
  },
  {
   "cell_type": "code",
   "execution_count": null,
   "metadata": {},
   "outputs": [],
   "source": []
  },
  {
   "cell_type": "code",
   "execution_count": null,
   "metadata": {},
   "outputs": [],
   "source": []
  },
  {
   "cell_type": "code",
   "execution_count": null,
   "metadata": {},
   "outputs": [],
   "source": []
  },
  {
   "cell_type": "code",
   "execution_count": null,
   "metadata": {},
   "outputs": [],
   "source": []
  },
  {
   "cell_type": "code",
   "execution_count": null,
   "metadata": {},
   "outputs": [],
   "source": []
  },
  {
   "cell_type": "code",
   "execution_count": null,
   "metadata": {},
   "outputs": [],
   "source": []
  },
  {
   "cell_type": "code",
   "execution_count": null,
   "metadata": {},
   "outputs": [],
   "source": []
  },
  {
   "cell_type": "code",
   "execution_count": null,
   "metadata": {},
   "outputs": [],
   "source": []
  },
  {
   "cell_type": "code",
   "execution_count": null,
   "metadata": {},
   "outputs": [],
   "source": []
  },
  {
   "cell_type": "code",
   "execution_count": null,
   "metadata": {},
   "outputs": [],
   "source": [
    "\n"
   ]
  },
  {
   "cell_type": "code",
   "execution_count": null,
   "metadata": {},
   "outputs": [],
   "source": []
  },
  {
   "cell_type": "code",
   "execution_count": null,
   "metadata": {},
   "outputs": [],
   "source": []
  },
  {
   "cell_type": "code",
   "execution_count": null,
   "metadata": {},
   "outputs": [],
   "source": []
  },
  {
   "cell_type": "code",
   "execution_count": null,
   "metadata": {},
   "outputs": [],
   "source": []
  },
  {
   "cell_type": "code",
   "execution_count": null,
   "metadata": {},
   "outputs": [],
   "source": []
  },
  {
   "cell_type": "code",
   "execution_count": null,
   "metadata": {},
   "outputs": [],
   "source": []
  },
  {
   "cell_type": "code",
   "execution_count": null,
   "metadata": {},
   "outputs": [],
   "source": [
    "\n",
    "\n"
   ]
  },
  {
   "cell_type": "code",
   "execution_count": null,
   "metadata": {},
   "outputs": [],
   "source": []
  },
  {
   "cell_type": "code",
   "execution_count": null,
   "metadata": {},
   "outputs": [],
   "source": []
  },
  {
   "cell_type": "code",
   "execution_count": null,
   "metadata": {},
   "outputs": [],
   "source": []
  },
  {
   "cell_type": "code",
   "execution_count": null,
   "metadata": {},
   "outputs": [],
   "source": []
  },
  {
   "cell_type": "code",
   "execution_count": null,
   "metadata": {},
   "outputs": [],
   "source": []
  },
  {
   "cell_type": "code",
   "execution_count": null,
   "metadata": {},
   "outputs": [],
   "source": []
  },
  {
   "cell_type": "code",
   "execution_count": null,
   "metadata": {},
   "outputs": [],
   "source": []
  }
 ],
 "metadata": {
  "kernelspec": {
   "display_name": "Python 3",
   "language": "python",
   "name": "python3"
  },
  "language_info": {
   "codemirror_mode": {
    "name": "ipython",
    "version": 3
   },
   "file_extension": ".py",
   "mimetype": "text/x-python",
   "name": "python",
   "nbconvert_exporter": "python",
   "pygments_lexer": "ipython3",
   "version": "3.8.3"
  }
 },
 "nbformat": 4,
 "nbformat_minor": 4
}
